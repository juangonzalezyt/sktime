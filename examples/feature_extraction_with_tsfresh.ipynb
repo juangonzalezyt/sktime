{
 "cells": [
  {
   "cell_type": "markdown",
   "metadata": {},
   "source": [
    "# Feature extraction with tsfresh transformer\n",
    "\n",
    "In this tutorial, we show how you can use sktime with [tsfresh](https://tsfresh.readthedocs.io) to first extract features from time series, so that we can then use any scikit-learn estimator.\n",
    "\n",
    "## Preliminaries\n",
    "You have to install tsfresh if you haven't already. To install it, uncomment the cell below:"
   ]
  },
  {
   "cell_type": "code",
   "execution_count": 1,
   "metadata": {},
   "outputs": [],
   "source": [
    "# !pip install --upgrade tsfresh"
   ]
  },
  {
   "cell_type": "code",
   "execution_count": 2,
   "metadata": {},
   "outputs": [],
   "source": [
    "import numpy as np\n",
    "from sklearn.model_selection import train_test_split\n",
    "from sklearn.ensemble import RandomForestClassifier\n",
    "from sklearn.pipeline import make_pipeline\n",
    "from sktime.datasets import load_basic_motions\n",
    "from sktime.datasets import load_arrow_head\n",
    "from sktime.transformers.series_as_features.summarize import \\\n",
    "    TSFreshFeatureExtractor"
   ]
  },
  {
   "cell_type": "markdown",
   "metadata": {},
   "source": [
    "## Univariate time series classification data\n",
    "\n",
    "For more details on the data set, see the [univariate time series classification notebook](https://github.com/alan-turing-institute/sktime/blob/master/examples/02_classification_univariate.ipynb)."
   ]
  },
  {
   "cell_type": "code",
   "execution_count": 3,
   "metadata": {},
   "outputs": [
    {
     "name": "stdout",
     "output_type": "stream",
     "text": [
      "(158, 1) (158,) (53, 1) (53,)\n"
     ]
    }
   ],
   "source": [
    "X, y = load_arrow_head(return_X_y=True)\n",
    "X_train, X_test, y_train, y_test = train_test_split(X, y)\n",
    "print(X_train.shape, y_train.shape, X_test.shape, y_test.shape)"
   ]
  },
  {
   "cell_type": "code",
   "execution_count": 4,
   "metadata": {
    "jupyter": {
     "outputs_hidden": false
    },
    "pycharm": {
     "name": "#%%\n"
    }
   },
   "outputs": [
    {
     "data": {
      "text/html": [
       "<div>\n",
       "<style scoped>\n",
       "    .dataframe tbody tr th:only-of-type {\n",
       "        vertical-align: middle;\n",
       "    }\n",
       "\n",
       "    .dataframe tbody tr th {\n",
       "        vertical-align: top;\n",
       "    }\n",
       "\n",
       "    .dataframe thead th {\n",
       "        text-align: right;\n",
       "    }\n",
       "</style>\n",
       "<table border=\"1\" class=\"dataframe\">\n",
       "  <thead>\n",
       "    <tr style=\"text-align: right;\">\n",
       "      <th></th>\n",
       "      <th>dim_0</th>\n",
       "    </tr>\n",
       "  </thead>\n",
       "  <tbody>\n",
       "    <tr>\n",
       "      <th>59</th>\n",
       "      <td>0     -1.9969\n",
       "1     -2.0076\n",
       "2     -2.0010\n",
       "3   ...</td>\n",
       "    </tr>\n",
       "    <tr>\n",
       "      <th>141</th>\n",
       "      <td>0     -1.7993\n",
       "1     -1.7962\n",
       "2     -1.7725\n",
       "3   ...</td>\n",
       "    </tr>\n",
       "    <tr>\n",
       "      <th>16</th>\n",
       "      <td>0     -0.79626\n",
       "1     -0.77368\n",
       "2     -0.66440\n",
       "3...</td>\n",
       "    </tr>\n",
       "    <tr>\n",
       "      <th>68</th>\n",
       "      <td>0     -1.9245\n",
       "1     -1.9210\n",
       "2     -1.9066\n",
       "3   ...</td>\n",
       "    </tr>\n",
       "    <tr>\n",
       "      <th>96</th>\n",
       "      <td>0     -2.3110\n",
       "1     -2.3084\n",
       "2     -2.2969\n",
       "3   ...</td>\n",
       "    </tr>\n",
       "  </tbody>\n",
       "</table>\n",
       "</div>"
      ],
      "text/plain": [
       "                                                 dim_0\n",
       "59   0     -1.9969\n",
       "1     -2.0076\n",
       "2     -2.0010\n",
       "3   ...\n",
       "141  0     -1.7993\n",
       "1     -1.7962\n",
       "2     -1.7725\n",
       "3   ...\n",
       "16   0     -0.79626\n",
       "1     -0.77368\n",
       "2     -0.66440\n",
       "3...\n",
       "68   0     -1.9245\n",
       "1     -1.9210\n",
       "2     -1.9066\n",
       "3   ...\n",
       "96   0     -2.3110\n",
       "1     -2.3084\n",
       "2     -2.2969\n",
       "3   ..."
      ]
     },
     "execution_count": 4,
     "metadata": {},
     "output_type": "execute_result"
    }
   ],
   "source": [
    "X_train.head()"
   ]
  },
  {
   "cell_type": "code",
   "execution_count": 5,
   "metadata": {},
   "outputs": [
    {
     "data": {
      "text/plain": [
       "array(['0', '1', '2'], dtype=object)"
      ]
     },
     "execution_count": 5,
     "metadata": {},
     "output_type": "execute_result"
    }
   ],
   "source": [
    "# binary classification task\n",
    "np.unique(y_train)"
   ]
  },
  {
   "cell_type": "markdown",
   "metadata": {},
   "source": [
    "## Using tsfresh to extract features"
   ]
  },
  {
   "cell_type": "code",
   "execution_count": 6,
   "metadata": {},
   "outputs": [
    {
     "name": "stderr",
     "output_type": "stream",
     "text": [
      "/Users/travis/build/alan-turing-institute/sktime/sktime/transformers/series_as_features/summarize/_tsfresh.py:150: UserWarning: Found non-unique index, replaced with unique index.\n",
      "  warn(\"Found non-unique index, replaced with unique index.\")\n"
     ]
    },
    {
     "name": "stderr",
     "output_type": "stream",
     "text": [
      "\r",
      "Feature Extraction:   0%|          | 0/5 [00:00<?, ?it/s]"
     ]
    },
    {
     "name": "stderr",
     "output_type": "stream",
     "text": [
      "\r",
      "Feature Extraction:  20%|██        | 1/5 [00:04<00:17,  4.42s/it]"
     ]
    },
    {
     "name": "stderr",
     "output_type": "stream",
     "text": [
      "\r",
      "Feature Extraction:  40%|████      | 2/5 [00:08<00:13,  4.37s/it]"
     ]
    },
    {
     "name": "stderr",
     "output_type": "stream",
     "text": [
      "\r",
      "Feature Extraction:  60%|██████    | 3/5 [00:12<00:08,  4.34s/it]"
     ]
    },
    {
     "name": "stderr",
     "output_type": "stream",
     "text": [
      "\r",
      "Feature Extraction:  80%|████████  | 4/5 [00:17<00:04,  4.33s/it]"
     ]
    },
    {
     "name": "stderr",
     "output_type": "stream",
     "text": [
      "\r",
      "Feature Extraction: 100%|██████████| 5/5 [00:21<00:00,  4.24s/it]"
     ]
    },
    {
     "name": "stderr",
     "output_type": "stream",
     "text": [
      "\r",
      "Feature Extraction: 100%|██████████| 5/5 [00:21<00:00,  4.26s/it]"
     ]
    },
    {
     "name": "stderr",
     "output_type": "stream",
     "text": [
      "\n"
     ]
    },
    {
     "data": {
      "text/html": [
       "<div>\n",
       "<style scoped>\n",
       "    .dataframe tbody tr th:only-of-type {\n",
       "        vertical-align: middle;\n",
       "    }\n",
       "\n",
       "    .dataframe tbody tr th {\n",
       "        vertical-align: top;\n",
       "    }\n",
       "\n",
       "    .dataframe thead th {\n",
       "        text-align: right;\n",
       "    }\n",
       "</style>\n",
       "<table border=\"1\" class=\"dataframe\">\n",
       "  <thead>\n",
       "    <tr style=\"text-align: right;\">\n",
       "      <th>variable</th>\n",
       "      <th>dim_0__abs_energy</th>\n",
       "      <th>dim_0__absolute_sum_of_changes</th>\n",
       "      <th>dim_0__agg_autocorrelation__f_agg_\"mean\"__maxlag_40</th>\n",
       "      <th>dim_0__agg_autocorrelation__f_agg_\"median\"__maxlag_40</th>\n",
       "      <th>dim_0__agg_autocorrelation__f_agg_\"var\"__maxlag_40</th>\n",
       "      <th>dim_0__agg_linear_trend__attr_\"intercept\"__chunk_len_10__f_agg_\"max\"</th>\n",
       "      <th>dim_0__agg_linear_trend__attr_\"intercept\"__chunk_len_10__f_agg_\"mean\"</th>\n",
       "      <th>dim_0__agg_linear_trend__attr_\"intercept\"__chunk_len_10__f_agg_\"min\"</th>\n",
       "      <th>dim_0__agg_linear_trend__attr_\"intercept\"__chunk_len_10__f_agg_\"var\"</th>\n",
       "      <th>dim_0__agg_linear_trend__attr_\"intercept\"__chunk_len_50__f_agg_\"max\"</th>\n",
       "      <th>...</th>\n",
       "      <th>dim_0__symmetry_looking__r_0.9500000000000001</th>\n",
       "      <th>dim_0__time_reversal_asymmetry_statistic__lag_1</th>\n",
       "      <th>dim_0__time_reversal_asymmetry_statistic__lag_2</th>\n",
       "      <th>dim_0__time_reversal_asymmetry_statistic__lag_3</th>\n",
       "      <th>dim_0__value_count__value_-1</th>\n",
       "      <th>dim_0__value_count__value_0</th>\n",
       "      <th>dim_0__value_count__value_1</th>\n",
       "      <th>dim_0__variance</th>\n",
       "      <th>dim_0__variance_larger_than_standard_deviation</th>\n",
       "      <th>dim_0__variation_coefficient</th>\n",
       "    </tr>\n",
       "  </thead>\n",
       "  <tbody>\n",
       "    <tr>\n",
       "      <th>0</th>\n",
       "      <td>249.999003</td>\n",
       "      <td>85.444066</td>\n",
       "      <td>0.146004</td>\n",
       "      <td>0.177188</td>\n",
       "      <td>0.126852</td>\n",
       "      <td>-0.003343</td>\n",
       "      <td>-0.287678</td>\n",
       "      <td>-1.033774</td>\n",
       "      <td>0.119964</td>\n",
       "      <td>0.957359</td>\n",
       "      <td>...</td>\n",
       "      <td>1.0</td>\n",
       "      <td>0.067221</td>\n",
       "      <td>0.003165</td>\n",
       "      <td>-0.013674</td>\n",
       "      <td>0.0</td>\n",
       "      <td>0.0</td>\n",
       "      <td>0.0</td>\n",
       "      <td>0.996012</td>\n",
       "      <td>0.0</td>\n",
       "      <td>-1.123314e+06</td>\n",
       "    </tr>\n",
       "    <tr>\n",
       "      <th>1</th>\n",
       "      <td>249.999633</td>\n",
       "      <td>80.266136</td>\n",
       "      <td>0.301887</td>\n",
       "      <td>0.325918</td>\n",
       "      <td>0.077819</td>\n",
       "      <td>-0.319642</td>\n",
       "      <td>-0.589998</td>\n",
       "      <td>-1.138150</td>\n",
       "      <td>0.088368</td>\n",
       "      <td>0.677951</td>\n",
       "      <td>...</td>\n",
       "      <td>1.0</td>\n",
       "      <td>0.043408</td>\n",
       "      <td>0.008022</td>\n",
       "      <td>-0.016433</td>\n",
       "      <td>0.0</td>\n",
       "      <td>0.0</td>\n",
       "      <td>0.0</td>\n",
       "      <td>0.996014</td>\n",
       "      <td>0.0</td>\n",
       "      <td>-2.341115e+06</td>\n",
       "    </tr>\n",
       "    <tr>\n",
       "      <th>2</th>\n",
       "      <td>250.000369</td>\n",
       "      <td>62.313686</td>\n",
       "      <td>-0.021289</td>\n",
       "      <td>-0.060843</td>\n",
       "      <td>0.348135</td>\n",
       "      <td>0.562619</td>\n",
       "      <td>-0.217615</td>\n",
       "      <td>-1.120359</td>\n",
       "      <td>0.263682</td>\n",
       "      <td>2.232820</td>\n",
       "      <td>...</td>\n",
       "      <td>1.0</td>\n",
       "      <td>0.001730</td>\n",
       "      <td>0.003613</td>\n",
       "      <td>0.013407</td>\n",
       "      <td>0.0</td>\n",
       "      <td>0.0</td>\n",
       "      <td>0.0</td>\n",
       "      <td>0.996017</td>\n",
       "      <td>0.0</td>\n",
       "      <td>1.291235e+06</td>\n",
       "    </tr>\n",
       "    <tr>\n",
       "      <th>3</th>\n",
       "      <td>249.999690</td>\n",
       "      <td>86.851080</td>\n",
       "      <td>0.179057</td>\n",
       "      <td>0.203519</td>\n",
       "      <td>0.108137</td>\n",
       "      <td>-0.162086</td>\n",
       "      <td>-0.430559</td>\n",
       "      <td>-1.220161</td>\n",
       "      <td>0.121316</td>\n",
       "      <td>0.799149</td>\n",
       "      <td>...</td>\n",
       "      <td>1.0</td>\n",
       "      <td>0.054972</td>\n",
       "      <td>0.012204</td>\n",
       "      <td>-0.012224</td>\n",
       "      <td>0.0</td>\n",
       "      <td>0.0</td>\n",
       "      <td>0.0</td>\n",
       "      <td>0.996015</td>\n",
       "      <td>0.0</td>\n",
       "      <td>1.138633e+06</td>\n",
       "    </tr>\n",
       "    <tr>\n",
       "      <th>4</th>\n",
       "      <td>250.000590</td>\n",
       "      <td>81.795692</td>\n",
       "      <td>0.282220</td>\n",
       "      <td>0.269636</td>\n",
       "      <td>0.053123</td>\n",
       "      <td>-0.243313</td>\n",
       "      <td>-0.590967</td>\n",
       "      <td>-0.961988</td>\n",
       "      <td>0.083091</td>\n",
       "      <td>0.483924</td>\n",
       "      <td>...</td>\n",
       "      <td>1.0</td>\n",
       "      <td>0.059395</td>\n",
       "      <td>-0.010595</td>\n",
       "      <td>-0.052214</td>\n",
       "      <td>0.0</td>\n",
       "      <td>0.0</td>\n",
       "      <td>0.0</td>\n",
       "      <td>0.996018</td>\n",
       "      <td>0.0</td>\n",
       "      <td>-1.681207e+06</td>\n",
       "    </tr>\n",
       "  </tbody>\n",
       "</table>\n",
       "<p>5 rows × 757 columns</p>\n",
       "</div>"
      ],
      "text/plain": [
       "variable  dim_0__abs_energy  dim_0__absolute_sum_of_changes  \\\n",
       "0                249.999003                       85.444066   \n",
       "1                249.999633                       80.266136   \n",
       "2                250.000369                       62.313686   \n",
       "3                249.999690                       86.851080   \n",
       "4                250.000590                       81.795692   \n",
       "\n",
       "variable  dim_0__agg_autocorrelation__f_agg_\"mean\"__maxlag_40  \\\n",
       "0                                                  0.146004     \n",
       "1                                                  0.301887     \n",
       "2                                                 -0.021289     \n",
       "3                                                  0.179057     \n",
       "4                                                  0.282220     \n",
       "\n",
       "variable  dim_0__agg_autocorrelation__f_agg_\"median\"__maxlag_40  \\\n",
       "0                                                  0.177188       \n",
       "1                                                  0.325918       \n",
       "2                                                 -0.060843       \n",
       "3                                                  0.203519       \n",
       "4                                                  0.269636       \n",
       "\n",
       "variable  dim_0__agg_autocorrelation__f_agg_\"var\"__maxlag_40  \\\n",
       "0                                                  0.126852    \n",
       "1                                                  0.077819    \n",
       "2                                                  0.348135    \n",
       "3                                                  0.108137    \n",
       "4                                                  0.053123    \n",
       "\n",
       "variable  dim_0__agg_linear_trend__attr_\"intercept\"__chunk_len_10__f_agg_\"max\"  \\\n",
       "0                                                 -0.003343                      \n",
       "1                                                 -0.319642                      \n",
       "2                                                  0.562619                      \n",
       "3                                                 -0.162086                      \n",
       "4                                                 -0.243313                      \n",
       "\n",
       "variable  dim_0__agg_linear_trend__attr_\"intercept\"__chunk_len_10__f_agg_\"mean\"  \\\n",
       "0                                                 -0.287678                       \n",
       "1                                                 -0.589998                       \n",
       "2                                                 -0.217615                       \n",
       "3                                                 -0.430559                       \n",
       "4                                                 -0.590967                       \n",
       "\n",
       "variable  dim_0__agg_linear_trend__attr_\"intercept\"__chunk_len_10__f_agg_\"min\"  \\\n",
       "0                                                 -1.033774                      \n",
       "1                                                 -1.138150                      \n",
       "2                                                 -1.120359                      \n",
       "3                                                 -1.220161                      \n",
       "4                                                 -0.961988                      \n",
       "\n",
       "variable  dim_0__agg_linear_trend__attr_\"intercept\"__chunk_len_10__f_agg_\"var\"  \\\n",
       "0                                                  0.119964                      \n",
       "1                                                  0.088368                      \n",
       "2                                                  0.263682                      \n",
       "3                                                  0.121316                      \n",
       "4                                                  0.083091                      \n",
       "\n",
       "variable  dim_0__agg_linear_trend__attr_\"intercept\"__chunk_len_50__f_agg_\"max\"  \\\n",
       "0                                                  0.957359                      \n",
       "1                                                  0.677951                      \n",
       "2                                                  2.232820                      \n",
       "3                                                  0.799149                      \n",
       "4                                                  0.483924                      \n",
       "\n",
       "variable  ...  dim_0__symmetry_looking__r_0.9500000000000001  \\\n",
       "0         ...                                            1.0   \n",
       "1         ...                                            1.0   \n",
       "2         ...                                            1.0   \n",
       "3         ...                                            1.0   \n",
       "4         ...                                            1.0   \n",
       "\n",
       "variable  dim_0__time_reversal_asymmetry_statistic__lag_1  \\\n",
       "0                                                0.067221   \n",
       "1                                                0.043408   \n",
       "2                                                0.001730   \n",
       "3                                                0.054972   \n",
       "4                                                0.059395   \n",
       "\n",
       "variable  dim_0__time_reversal_asymmetry_statistic__lag_2  \\\n",
       "0                                                0.003165   \n",
       "1                                                0.008022   \n",
       "2                                                0.003613   \n",
       "3                                                0.012204   \n",
       "4                                               -0.010595   \n",
       "\n",
       "variable  dim_0__time_reversal_asymmetry_statistic__lag_3  \\\n",
       "0                                               -0.013674   \n",
       "1                                               -0.016433   \n",
       "2                                                0.013407   \n",
       "3                                               -0.012224   \n",
       "4                                               -0.052214   \n",
       "\n",
       "variable  dim_0__value_count__value_-1  dim_0__value_count__value_0  \\\n",
       "0                                  0.0                          0.0   \n",
       "1                                  0.0                          0.0   \n",
       "2                                  0.0                          0.0   \n",
       "3                                  0.0                          0.0   \n",
       "4                                  0.0                          0.0   \n",
       "\n",
       "variable  dim_0__value_count__value_1  dim_0__variance  \\\n",
       "0                                 0.0         0.996012   \n",
       "1                                 0.0         0.996014   \n",
       "2                                 0.0         0.996017   \n",
       "3                                 0.0         0.996015   \n",
       "4                                 0.0         0.996018   \n",
       "\n",
       "variable  dim_0__variance_larger_than_standard_deviation  \\\n",
       "0                                                    0.0   \n",
       "1                                                    0.0   \n",
       "2                                                    0.0   \n",
       "3                                                    0.0   \n",
       "4                                                    0.0   \n",
       "\n",
       "variable  dim_0__variation_coefficient  \n",
       "0                        -1.123314e+06  \n",
       "1                        -2.341115e+06  \n",
       "2                         1.291235e+06  \n",
       "3                         1.138633e+06  \n",
       "4                        -1.681207e+06  \n",
       "\n",
       "[5 rows x 757 columns]"
      ]
     },
     "execution_count": 6,
     "metadata": {},
     "output_type": "execute_result"
    }
   ],
   "source": [
    "# tf = TsFreshTransfomer()\n",
    "t = TSFreshFeatureExtractor(default_fc_parameters=\"efficient\", show_warnings=False)\n",
    "Xt = t.fit_transform(X_train)\n",
    "Xt.head()"
   ]
  },
  {
   "cell_type": "markdown",
   "metadata": {},
   "source": [
    "## Using tsfresh with sktime"
   ]
  },
  {
   "cell_type": "code",
   "execution_count": 7,
   "metadata": {},
   "outputs": [
    {
     "name": "stderr",
     "output_type": "stream",
     "text": [
      "/Users/travis/build/alan-turing-institute/sktime/sktime/transformers/series_as_features/summarize/_tsfresh.py:150: UserWarning: Found non-unique index, replaced with unique index.\n",
      "  warn(\"Found non-unique index, replaced with unique index.\")\n"
     ]
    },
    {
     "name": "stderr",
     "output_type": "stream",
     "text": [
      "\r",
      "Feature Extraction:   0%|          | 0/5 [00:00<?, ?it/s]"
     ]
    },
    {
     "name": "stderr",
     "output_type": "stream",
     "text": [
      "\r",
      "Feature Extraction:  20%|██        | 1/5 [00:04<00:17,  4.43s/it]"
     ]
    },
    {
     "name": "stderr",
     "output_type": "stream",
     "text": [
      "\r",
      "Feature Extraction:  40%|████      | 2/5 [00:08<00:13,  4.45s/it]"
     ]
    },
    {
     "name": "stderr",
     "output_type": "stream",
     "text": [
      "\r",
      "Feature Extraction:  60%|██████    | 3/5 [00:13<00:08,  4.41s/it]"
     ]
    },
    {
     "name": "stderr",
     "output_type": "stream",
     "text": [
      "\r",
      "Feature Extraction:  80%|████████  | 4/5 [00:17<00:04,  4.37s/it]"
     ]
    },
    {
     "name": "stderr",
     "output_type": "stream",
     "text": [
      "\r",
      "Feature Extraction: 100%|██████████| 5/5 [00:21<00:00,  4.25s/it]"
     ]
    },
    {
     "name": "stderr",
     "output_type": "stream",
     "text": [
      "\r",
      "Feature Extraction: 100%|██████████| 5/5 [00:21<00:00,  4.30s/it]"
     ]
    },
    {
     "name": "stderr",
     "output_type": "stream",
     "text": [
      "\n"
     ]
    },
    {
     "name": "stderr",
     "output_type": "stream",
     "text": [
      "/Users/travis/build/alan-turing-institute/sktime/sktime/transformers/series_as_features/summarize/_tsfresh.py:150: UserWarning: Found non-unique index, replaced with unique index.\n",
      "  warn(\"Found non-unique index, replaced with unique index.\")\n"
     ]
    },
    {
     "name": "stderr",
     "output_type": "stream",
     "text": [
      "\r",
      "Feature Extraction:   0%|          | 0/5 [00:00<?, ?it/s]"
     ]
    },
    {
     "name": "stderr",
     "output_type": "stream",
     "text": [
      "\r",
      "Feature Extraction:  20%|██        | 1/5 [00:01<00:06,  1.53s/it]"
     ]
    },
    {
     "name": "stderr",
     "output_type": "stream",
     "text": [
      "\r",
      "Feature Extraction:  40%|████      | 2/5 [00:02<00:04,  1.51s/it]"
     ]
    },
    {
     "name": "stderr",
     "output_type": "stream",
     "text": [
      "\r",
      "Feature Extraction:  60%|██████    | 3/5 [00:04<00:02,  1.49s/it]"
     ]
    },
    {
     "name": "stderr",
     "output_type": "stream",
     "text": [
      "\r",
      "Feature Extraction:  80%|████████  | 4/5 [00:05<00:01,  1.48s/it]"
     ]
    },
    {
     "name": "stderr",
     "output_type": "stream",
     "text": [
      "\r",
      "Feature Extraction: 100%|██████████| 5/5 [00:07<00:00,  1.39s/it]"
     ]
    },
    {
     "name": "stderr",
     "output_type": "stream",
     "text": [
      "\r",
      "Feature Extraction: 100%|██████████| 5/5 [00:07<00:00,  1.42s/it]"
     ]
    },
    {
     "name": "stderr",
     "output_type": "stream",
     "text": [
      "\n"
     ]
    },
    {
     "data": {
      "text/plain": [
       "0.8867924528301887"
      ]
     },
     "execution_count": 7,
     "metadata": {},
     "output_type": "execute_result"
    }
   ],
   "source": [
    "classifier = make_pipeline(\n",
    "    TSFreshFeatureExtractor(default_fc_parameters=\"efficient\", show_warnings=False),\n",
    "    RandomForestClassifier()\n",
    ")\n",
    "classifier.fit(X_train, y_train)\n",
    "classifier.score(X_test, y_test)"
   ]
  },
  {
   "cell_type": "markdown",
   "metadata": {},
   "source": [
    "## Multivariate time series classification data"
   ]
  },
  {
   "cell_type": "code",
   "execution_count": 8,
   "metadata": {
    "scrolled": true
   },
   "outputs": [
    {
     "name": "stdout",
     "output_type": "stream",
     "text": [
      "(60, 6) (60,) (20, 6) (20,)\n"
     ]
    }
   ],
   "source": [
    "X, y = load_basic_motions(return_X_y=True)\n",
    "X_train, X_test, y_train, y_test = train_test_split(X, y)\n",
    "print(X_train.shape, y_train.shape, X_test.shape, y_test.shape)"
   ]
  },
  {
   "cell_type": "code",
   "execution_count": 9,
   "metadata": {
    "jupyter": {
     "outputs_hidden": false
    },
    "pycharm": {
     "name": "#%%\n"
    }
   },
   "outputs": [
    {
     "data": {
      "text/html": [
       "<div>\n",
       "<style scoped>\n",
       "    .dataframe tbody tr th:only-of-type {\n",
       "        vertical-align: middle;\n",
       "    }\n",
       "\n",
       "    .dataframe tbody tr th {\n",
       "        vertical-align: top;\n",
       "    }\n",
       "\n",
       "    .dataframe thead th {\n",
       "        text-align: right;\n",
       "    }\n",
       "</style>\n",
       "<table border=\"1\" class=\"dataframe\">\n",
       "  <thead>\n",
       "    <tr style=\"text-align: right;\">\n",
       "      <th></th>\n",
       "      <th>dim_0</th>\n",
       "      <th>dim_1</th>\n",
       "      <th>dim_2</th>\n",
       "      <th>dim_3</th>\n",
       "      <th>dim_4</th>\n",
       "      <th>dim_5</th>\n",
       "    </tr>\n",
       "  </thead>\n",
       "  <tbody>\n",
       "    <tr>\n",
       "      <th>13</th>\n",
       "      <td>0      2.580342\n",
       "1      2.580342\n",
       "2     -7.26891...</td>\n",
       "      <td>0     -0.850954\n",
       "1     -0.850954\n",
       "2     -6.06223...</td>\n",
       "      <td>0     -0.150030\n",
       "1     -0.150030\n",
       "2      0.96421...</td>\n",
       "      <td>0    -0.005327\n",
       "1    -0.005327\n",
       "2     0.002663\n",
       "3...</td>\n",
       "      <td>0     0.050604\n",
       "1     0.050604\n",
       "2    -0.364882\n",
       "3...</td>\n",
       "      <td>0     0.311615\n",
       "1     0.311615\n",
       "2    -0.772378\n",
       "3...</td>\n",
       "    </tr>\n",
       "    <tr>\n",
       "      <th>38</th>\n",
       "      <td>0    -0.396060\n",
       "1    -0.396060\n",
       "2    -0.268022\n",
       "3...</td>\n",
       "      <td>0    -0.686878\n",
       "1    -0.686878\n",
       "2     0.103510\n",
       "3...</td>\n",
       "      <td>0    -0.350328\n",
       "1    -0.350328\n",
       "2    -1.281489\n",
       "3...</td>\n",
       "      <td>0    -0.157139\n",
       "1    -0.157139\n",
       "2     0.274327\n",
       "3...</td>\n",
       "      <td>0    -0.058594\n",
       "1    -0.058594\n",
       "2    -0.471417\n",
       "3...</td>\n",
       "      <td>0     0.151812\n",
       "1     0.151812\n",
       "2     0.332922\n",
       "3...</td>\n",
       "    </tr>\n",
       "    <tr>\n",
       "      <th>39</th>\n",
       "      <td>0      0.901645\n",
       "1      0.901645\n",
       "2     -0.05469...</td>\n",
       "      <td>0      2.581916\n",
       "1      2.581916\n",
       "2     -0.01142...</td>\n",
       "      <td>0    -0.353783\n",
       "1    -0.353783\n",
       "2    -0.009521\n",
       "3...</td>\n",
       "      <td>0    -0.455437\n",
       "1    -0.455437\n",
       "2    -0.250357\n",
       "3...</td>\n",
       "      <td>0     0.106535\n",
       "1     0.106535\n",
       "2    -0.069248\n",
       "3...</td>\n",
       "      <td>0     0.245030\n",
       "1     0.245030\n",
       "2     0.005327\n",
       "3...</td>\n",
       "    </tr>\n",
       "    <tr>\n",
       "      <th>34</th>\n",
       "      <td>0     0.140313\n",
       "1     0.140313\n",
       "2     0.903629\n",
       "3...</td>\n",
       "      <td>0    -0.604627\n",
       "1    -0.604627\n",
       "2     1.621493\n",
       "3...</td>\n",
       "      <td>0    -0.221660\n",
       "1    -0.221660\n",
       "2     0.486719\n",
       "3...</td>\n",
       "      <td>0     0.079901\n",
       "1     0.079901\n",
       "2     0.420813\n",
       "3...</td>\n",
       "      <td>0    -0.085228\n",
       "1    -0.085228\n",
       "2    -0.428803\n",
       "3...</td>\n",
       "      <td>0    -0.010653\n",
       "1    -0.010653\n",
       "2     1.171884\n",
       "3...</td>\n",
       "    </tr>\n",
       "    <tr>\n",
       "      <th>28</th>\n",
       "      <td>0     0.369660\n",
       "1     0.369660\n",
       "2    -0.635316\n",
       "3...</td>\n",
       "      <td>0    -0.645952\n",
       "1    -0.645952\n",
       "2    -4.169368\n",
       "3...</td>\n",
       "      <td>0     0.063500\n",
       "1     0.063500\n",
       "2    -0.315898\n",
       "3...</td>\n",
       "      <td>0    -0.101208\n",
       "1    -0.101208\n",
       "2     0.122515\n",
       "3...</td>\n",
       "      <td>0    -0.029297\n",
       "1    -0.029297\n",
       "2    -0.205080\n",
       "3...</td>\n",
       "      <td>0     0.045277\n",
       "1     0.045277\n",
       "2     0.197090\n",
       "3...</td>\n",
       "    </tr>\n",
       "  </tbody>\n",
       "</table>\n",
       "</div>"
      ],
      "text/plain": [
       "                                                dim_0  \\\n",
       "13  0      2.580342\n",
       "1      2.580342\n",
       "2     -7.26891...   \n",
       "38  0    -0.396060\n",
       "1    -0.396060\n",
       "2    -0.268022\n",
       "3...   \n",
       "39  0      0.901645\n",
       "1      0.901645\n",
       "2     -0.05469...   \n",
       "34  0     0.140313\n",
       "1     0.140313\n",
       "2     0.903629\n",
       "3...   \n",
       "28  0     0.369660\n",
       "1     0.369660\n",
       "2    -0.635316\n",
       "3...   \n",
       "\n",
       "                                                dim_1  \\\n",
       "13  0     -0.850954\n",
       "1     -0.850954\n",
       "2     -6.06223...   \n",
       "38  0    -0.686878\n",
       "1    -0.686878\n",
       "2     0.103510\n",
       "3...   \n",
       "39  0      2.581916\n",
       "1      2.581916\n",
       "2     -0.01142...   \n",
       "34  0    -0.604627\n",
       "1    -0.604627\n",
       "2     1.621493\n",
       "3...   \n",
       "28  0    -0.645952\n",
       "1    -0.645952\n",
       "2    -4.169368\n",
       "3...   \n",
       "\n",
       "                                                dim_2  \\\n",
       "13  0     -0.150030\n",
       "1     -0.150030\n",
       "2      0.96421...   \n",
       "38  0    -0.350328\n",
       "1    -0.350328\n",
       "2    -1.281489\n",
       "3...   \n",
       "39  0    -0.353783\n",
       "1    -0.353783\n",
       "2    -0.009521\n",
       "3...   \n",
       "34  0    -0.221660\n",
       "1    -0.221660\n",
       "2     0.486719\n",
       "3...   \n",
       "28  0     0.063500\n",
       "1     0.063500\n",
       "2    -0.315898\n",
       "3...   \n",
       "\n",
       "                                                dim_3  \\\n",
       "13  0    -0.005327\n",
       "1    -0.005327\n",
       "2     0.002663\n",
       "3...   \n",
       "38  0    -0.157139\n",
       "1    -0.157139\n",
       "2     0.274327\n",
       "3...   \n",
       "39  0    -0.455437\n",
       "1    -0.455437\n",
       "2    -0.250357\n",
       "3...   \n",
       "34  0     0.079901\n",
       "1     0.079901\n",
       "2     0.420813\n",
       "3...   \n",
       "28  0    -0.101208\n",
       "1    -0.101208\n",
       "2     0.122515\n",
       "3...   \n",
       "\n",
       "                                                dim_4  \\\n",
       "13  0     0.050604\n",
       "1     0.050604\n",
       "2    -0.364882\n",
       "3...   \n",
       "38  0    -0.058594\n",
       "1    -0.058594\n",
       "2    -0.471417\n",
       "3...   \n",
       "39  0     0.106535\n",
       "1     0.106535\n",
       "2    -0.069248\n",
       "3...   \n",
       "34  0    -0.085228\n",
       "1    -0.085228\n",
       "2    -0.428803\n",
       "3...   \n",
       "28  0    -0.029297\n",
       "1    -0.029297\n",
       "2    -0.205080\n",
       "3...   \n",
       "\n",
       "                                                dim_5  \n",
       "13  0     0.311615\n",
       "1     0.311615\n",
       "2    -0.772378\n",
       "3...  \n",
       "38  0     0.151812\n",
       "1     0.151812\n",
       "2     0.332922\n",
       "3...  \n",
       "39  0     0.245030\n",
       "1     0.245030\n",
       "2     0.005327\n",
       "3...  \n",
       "34  0    -0.010653\n",
       "1    -0.010653\n",
       "2     1.171884\n",
       "3...  \n",
       "28  0     0.045277\n",
       "1     0.045277\n",
       "2     0.197090\n",
       "3...  "
      ]
     },
     "execution_count": 9,
     "metadata": {},
     "output_type": "execute_result"
    }
   ],
   "source": [
    "# multivariate input data\n",
    "X_train.head()"
   ]
  },
  {
   "cell_type": "code",
   "execution_count": 10,
   "metadata": {
    "scrolled": true
   },
   "outputs": [
    {
     "name": "stderr",
     "output_type": "stream",
     "text": [
      "/Users/travis/build/alan-turing-institute/sktime/sktime/transformers/series_as_features/summarize/_tsfresh.py:150: UserWarning: Found non-unique index, replaced with unique index.\n",
      "  warn(\"Found non-unique index, replaced with unique index.\")\n"
     ]
    },
    {
     "name": "stderr",
     "output_type": "stream",
     "text": [
      "\r",
      "Feature Extraction:   0%|          | 0/5 [00:00<?, ?it/s]"
     ]
    },
    {
     "name": "stderr",
     "output_type": "stream",
     "text": [
      "\r",
      "Feature Extraction:  20%|██        | 1/5 [00:07<00:29,  7.45s/it]"
     ]
    },
    {
     "name": "stderr",
     "output_type": "stream",
     "text": [
      "\r",
      "Feature Extraction:  40%|████      | 2/5 [00:14<00:22,  7.40s/it]"
     ]
    },
    {
     "name": "stderr",
     "output_type": "stream",
     "text": [
      "\r",
      "Feature Extraction:  60%|██████    | 3/5 [00:22<00:14,  7.40s/it]"
     ]
    },
    {
     "name": "stderr",
     "output_type": "stream",
     "text": [
      "\r",
      "Feature Extraction:  80%|████████  | 4/5 [00:29<00:07,  7.26s/it]"
     ]
    },
    {
     "name": "stderr",
     "output_type": "stream",
     "text": [
      "\r",
      "Feature Extraction: 100%|██████████| 5/5 [00:35<00:00,  7.12s/it]"
     ]
    },
    {
     "name": "stderr",
     "output_type": "stream",
     "text": [
      "\r",
      "Feature Extraction: 100%|██████████| 5/5 [00:35<00:00,  7.17s/it]"
     ]
    },
    {
     "name": "stderr",
     "output_type": "stream",
     "text": [
      "\n"
     ]
    },
    {
     "data": {
      "text/html": [
       "<div>\n",
       "<style scoped>\n",
       "    .dataframe tbody tr th:only-of-type {\n",
       "        vertical-align: middle;\n",
       "    }\n",
       "\n",
       "    .dataframe tbody tr th {\n",
       "        vertical-align: top;\n",
       "    }\n",
       "\n",
       "    .dataframe thead th {\n",
       "        text-align: right;\n",
       "    }\n",
       "</style>\n",
       "<table border=\"1\" class=\"dataframe\">\n",
       "  <thead>\n",
       "    <tr style=\"text-align: right;\">\n",
       "      <th>variable</th>\n",
       "      <th>dim_0__abs_energy</th>\n",
       "      <th>dim_0__absolute_sum_of_changes</th>\n",
       "      <th>dim_0__agg_autocorrelation__f_agg_\"mean\"__maxlag_40</th>\n",
       "      <th>dim_0__agg_autocorrelation__f_agg_\"median\"__maxlag_40</th>\n",
       "      <th>dim_0__agg_autocorrelation__f_agg_\"var\"__maxlag_40</th>\n",
       "      <th>dim_0__agg_linear_trend__attr_\"intercept\"__chunk_len_10__f_agg_\"max\"</th>\n",
       "      <th>dim_0__agg_linear_trend__attr_\"intercept\"__chunk_len_10__f_agg_\"mean\"</th>\n",
       "      <th>dim_0__agg_linear_trend__attr_\"intercept\"__chunk_len_10__f_agg_\"min\"</th>\n",
       "      <th>dim_0__agg_linear_trend__attr_\"intercept\"__chunk_len_10__f_agg_\"var\"</th>\n",
       "      <th>dim_0__agg_linear_trend__attr_\"intercept\"__chunk_len_50__f_agg_\"max\"</th>\n",
       "      <th>...</th>\n",
       "      <th>dim_5__symmetry_looking__r_0.9500000000000001</th>\n",
       "      <th>dim_5__time_reversal_asymmetry_statistic__lag_1</th>\n",
       "      <th>dim_5__time_reversal_asymmetry_statistic__lag_2</th>\n",
       "      <th>dim_5__time_reversal_asymmetry_statistic__lag_3</th>\n",
       "      <th>dim_5__value_count__value_-1</th>\n",
       "      <th>dim_5__value_count__value_0</th>\n",
       "      <th>dim_5__value_count__value_1</th>\n",
       "      <th>dim_5__variance</th>\n",
       "      <th>dim_5__variance_larger_than_standard_deviation</th>\n",
       "      <th>dim_5__variation_coefficient</th>\n",
       "    </tr>\n",
       "  </thead>\n",
       "  <tbody>\n",
       "    <tr>\n",
       "      <th>0</th>\n",
       "      <td>10764.169856</td>\n",
       "      <td>671.272140</td>\n",
       "      <td>0.016019</td>\n",
       "      <td>-0.037014</td>\n",
       "      <td>0.161924</td>\n",
       "      <td>10.704797</td>\n",
       "      <td>1.946699</td>\n",
       "      <td>-12.205448</td>\n",
       "      <td>65.296221</td>\n",
       "      <td>15.367535</td>\n",
       "      <td>...</td>\n",
       "      <td>1.0</td>\n",
       "      <td>4.948201</td>\n",
       "      <td>5.331894</td>\n",
       "      <td>16.386624</td>\n",
       "      <td>0.0</td>\n",
       "      <td>0.0</td>\n",
       "      <td>0.0</td>\n",
       "      <td>19.585905</td>\n",
       "      <td>1.0</td>\n",
       "      <td>196.180932</td>\n",
       "    </tr>\n",
       "    <tr>\n",
       "      <th>1</th>\n",
       "      <td>2898.605554</td>\n",
       "      <td>309.024483</td>\n",
       "      <td>-0.020140</td>\n",
       "      <td>-0.074435</td>\n",
       "      <td>0.025175</td>\n",
       "      <td>8.286761</td>\n",
       "      <td>2.022176</td>\n",
       "      <td>-1.280324</td>\n",
       "      <td>13.471884</td>\n",
       "      <td>19.513924</td>\n",
       "      <td>...</td>\n",
       "      <td>1.0</td>\n",
       "      <td>-16.344250</td>\n",
       "      <td>-19.345028</td>\n",
       "      <td>6.058669</td>\n",
       "      <td>0.0</td>\n",
       "      <td>1.0</td>\n",
       "      <td>0.0</td>\n",
       "      <td>11.472258</td>\n",
       "      <td>1.0</td>\n",
       "      <td>9.708549</td>\n",
       "    </tr>\n",
       "    <tr>\n",
       "      <th>2</th>\n",
       "      <td>6541.210250</td>\n",
       "      <td>400.323922</td>\n",
       "      <td>-0.016830</td>\n",
       "      <td>-0.063614</td>\n",
       "      <td>0.027440</td>\n",
       "      <td>13.214625</td>\n",
       "      <td>3.573906</td>\n",
       "      <td>-2.799902</td>\n",
       "      <td>28.263487</td>\n",
       "      <td>27.772370</td>\n",
       "      <td>...</td>\n",
       "      <td>1.0</td>\n",
       "      <td>-44.790364</td>\n",
       "      <td>6.344127</td>\n",
       "      <td>32.062888</td>\n",
       "      <td>0.0</td>\n",
       "      <td>1.0</td>\n",
       "      <td>0.0</td>\n",
       "      <td>15.337062</td>\n",
       "      <td>1.0</td>\n",
       "      <td>-13.147464</td>\n",
       "    </tr>\n",
       "    <tr>\n",
       "      <th>3</th>\n",
       "      <td>6047.333821</td>\n",
       "      <td>397.974224</td>\n",
       "      <td>0.022006</td>\n",
       "      <td>-0.046906</td>\n",
       "      <td>0.041267</td>\n",
       "      <td>13.382946</td>\n",
       "      <td>6.201520</td>\n",
       "      <td>0.965148</td>\n",
       "      <td>26.606829</td>\n",
       "      <td>29.394165</td>\n",
       "      <td>...</td>\n",
       "      <td>1.0</td>\n",
       "      <td>7.155026</td>\n",
       "      <td>14.952607</td>\n",
       "      <td>22.434919</td>\n",
       "      <td>0.0</td>\n",
       "      <td>0.0</td>\n",
       "      <td>0.0</td>\n",
       "      <td>14.874024</td>\n",
       "      <td>1.0</td>\n",
       "      <td>-238.557676</td>\n",
       "    </tr>\n",
       "    <tr>\n",
       "      <th>4</th>\n",
       "      <td>123.411342</td>\n",
       "      <td>83.323817</td>\n",
       "      <td>-0.021147</td>\n",
       "      <td>-0.008992</td>\n",
       "      <td>0.074056</td>\n",
       "      <td>2.027459</td>\n",
       "      <td>0.411596</td>\n",
       "      <td>-0.957229</td>\n",
       "      <td>0.800756</td>\n",
       "      <td>2.808579</td>\n",
       "      <td>...</td>\n",
       "      <td>1.0</td>\n",
       "      <td>0.149593</td>\n",
       "      <td>0.361487</td>\n",
       "      <td>0.451426</td>\n",
       "      <td>0.0</td>\n",
       "      <td>0.0</td>\n",
       "      <td>0.0</td>\n",
       "      <td>1.521051</td>\n",
       "      <td>1.0</td>\n",
       "      <td>13.044029</td>\n",
       "    </tr>\n",
       "  </tbody>\n",
       "</table>\n",
       "<p>5 rows × 4542 columns</p>\n",
       "</div>"
      ],
      "text/plain": [
       "variable  dim_0__abs_energy  dim_0__absolute_sum_of_changes  \\\n",
       "0              10764.169856                      671.272140   \n",
       "1               2898.605554                      309.024483   \n",
       "2               6541.210250                      400.323922   \n",
       "3               6047.333821                      397.974224   \n",
       "4                123.411342                       83.323817   \n",
       "\n",
       "variable  dim_0__agg_autocorrelation__f_agg_\"mean\"__maxlag_40  \\\n",
       "0                                                  0.016019     \n",
       "1                                                 -0.020140     \n",
       "2                                                 -0.016830     \n",
       "3                                                  0.022006     \n",
       "4                                                 -0.021147     \n",
       "\n",
       "variable  dim_0__agg_autocorrelation__f_agg_\"median\"__maxlag_40  \\\n",
       "0                                                 -0.037014       \n",
       "1                                                 -0.074435       \n",
       "2                                                 -0.063614       \n",
       "3                                                 -0.046906       \n",
       "4                                                 -0.008992       \n",
       "\n",
       "variable  dim_0__agg_autocorrelation__f_agg_\"var\"__maxlag_40  \\\n",
       "0                                                  0.161924    \n",
       "1                                                  0.025175    \n",
       "2                                                  0.027440    \n",
       "3                                                  0.041267    \n",
       "4                                                  0.074056    \n",
       "\n",
       "variable  dim_0__agg_linear_trend__attr_\"intercept\"__chunk_len_10__f_agg_\"max\"  \\\n",
       "0                                                 10.704797                      \n",
       "1                                                  8.286761                      \n",
       "2                                                 13.214625                      \n",
       "3                                                 13.382946                      \n",
       "4                                                  2.027459                      \n",
       "\n",
       "variable  dim_0__agg_linear_trend__attr_\"intercept\"__chunk_len_10__f_agg_\"mean\"  \\\n",
       "0                                                  1.946699                       \n",
       "1                                                  2.022176                       \n",
       "2                                                  3.573906                       \n",
       "3                                                  6.201520                       \n",
       "4                                                  0.411596                       \n",
       "\n",
       "variable  dim_0__agg_linear_trend__attr_\"intercept\"__chunk_len_10__f_agg_\"min\"  \\\n",
       "0                                                -12.205448                      \n",
       "1                                                 -1.280324                      \n",
       "2                                                 -2.799902                      \n",
       "3                                                  0.965148                      \n",
       "4                                                 -0.957229                      \n",
       "\n",
       "variable  dim_0__agg_linear_trend__attr_\"intercept\"__chunk_len_10__f_agg_\"var\"  \\\n",
       "0                                                 65.296221                      \n",
       "1                                                 13.471884                      \n",
       "2                                                 28.263487                      \n",
       "3                                                 26.606829                      \n",
       "4                                                  0.800756                      \n",
       "\n",
       "variable  dim_0__agg_linear_trend__attr_\"intercept\"__chunk_len_50__f_agg_\"max\"  \\\n",
       "0                                                 15.367535                      \n",
       "1                                                 19.513924                      \n",
       "2                                                 27.772370                      \n",
       "3                                                 29.394165                      \n",
       "4                                                  2.808579                      \n",
       "\n",
       "variable  ...  dim_5__symmetry_looking__r_0.9500000000000001  \\\n",
       "0         ...                                            1.0   \n",
       "1         ...                                            1.0   \n",
       "2         ...                                            1.0   \n",
       "3         ...                                            1.0   \n",
       "4         ...                                            1.0   \n",
       "\n",
       "variable  dim_5__time_reversal_asymmetry_statistic__lag_1  \\\n",
       "0                                                4.948201   \n",
       "1                                              -16.344250   \n",
       "2                                              -44.790364   \n",
       "3                                                7.155026   \n",
       "4                                                0.149593   \n",
       "\n",
       "variable  dim_5__time_reversal_asymmetry_statistic__lag_2  \\\n",
       "0                                                5.331894   \n",
       "1                                              -19.345028   \n",
       "2                                                6.344127   \n",
       "3                                               14.952607   \n",
       "4                                                0.361487   \n",
       "\n",
       "variable  dim_5__time_reversal_asymmetry_statistic__lag_3  \\\n",
       "0                                               16.386624   \n",
       "1                                                6.058669   \n",
       "2                                               32.062888   \n",
       "3                                               22.434919   \n",
       "4                                                0.451426   \n",
       "\n",
       "variable  dim_5__value_count__value_-1  dim_5__value_count__value_0  \\\n",
       "0                                  0.0                          0.0   \n",
       "1                                  0.0                          1.0   \n",
       "2                                  0.0                          1.0   \n",
       "3                                  0.0                          0.0   \n",
       "4                                  0.0                          0.0   \n",
       "\n",
       "variable  dim_5__value_count__value_1  dim_5__variance  \\\n",
       "0                                 0.0        19.585905   \n",
       "1                                 0.0        11.472258   \n",
       "2                                 0.0        15.337062   \n",
       "3                                 0.0        14.874024   \n",
       "4                                 0.0         1.521051   \n",
       "\n",
       "variable  dim_5__variance_larger_than_standard_deviation  \\\n",
       "0                                                    1.0   \n",
       "1                                                    1.0   \n",
       "2                                                    1.0   \n",
       "3                                                    1.0   \n",
       "4                                                    1.0   \n",
       "\n",
       "variable  dim_5__variation_coefficient  \n",
       "0                           196.180932  \n",
       "1                             9.708549  \n",
       "2                           -13.147464  \n",
       "3                          -238.557676  \n",
       "4                            13.044029  \n",
       "\n",
       "[5 rows x 4542 columns]"
      ]
     },
     "execution_count": 10,
     "metadata": {},
     "output_type": "execute_result"
    }
   ],
   "source": [
    "t = TSFreshFeatureExtractor(default_fc_parameters=\"efficient\", show_warnings=False)\n",
    "Xt = t.fit_transform(X_train)\n",
    "Xt.head()"
   ]
  }
 ],
 "metadata": {
  "kernelspec": {
   "display_name": "Python 3",
   "language": "python",
   "name": "python3"
  },
  "language_info": {
   "codemirror_mode": {
    "name": "ipython",
    "version": 3
   },
   "file_extension": ".py",
   "mimetype": "text/x-python",
   "name": "python",
   "nbconvert_exporter": "python",
   "pygments_lexer": "ipython3",
   "version": "3.7.9"
  }
 },
 "nbformat": 4,
 "nbformat_minor": 4
}
